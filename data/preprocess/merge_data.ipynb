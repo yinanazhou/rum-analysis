{
 "cells": [
  {
   "cell_type": "code",
   "execution_count": 1,
   "id": "e550bf46-43d7-415f-94e7-9cc8b76ebd01",
   "metadata": {},
   "outputs": [],
   "source": [
    "import pandas as pd\n",
    "import numpy as np\n",
    "import seaborn as sns\n",
    "import matplotlib.pyplot as plt\n",
    "import re"
   ]
  },
  {
   "cell_type": "code",
   "execution_count": 2,
   "id": "510b49e7-63d5-4359-87f3-3bae8b482bd0",
   "metadata": {},
   "outputs": [],
   "source": [
    "df = pd.read_csv('../dataset/dataset.csv', na_values=[\"Unknown\", \"Best Price\"])"
   ]
  },
  {
   "cell_type": "code",
   "execution_count": 3,
   "id": "3ea7fbd8-4cd4-4a6f-955d-e3357ffe4dab",
   "metadata": {},
   "outputs": [],
   "source": [
    "saq = pd.read_csv('../dataset/price.csv')"
   ]
  },
  {
   "cell_type": "code",
   "execution_count": 4,
   "id": "2ca586a0-389c-4a6e-a78e-3221c097d4a7",
   "metadata": {},
   "outputs": [
    {
     "data": {
      "text/plain": [
       "(9280, 12)"
      ]
     },
     "execution_count": 4,
     "metadata": {},
     "output_type": "execute_result"
    }
   ],
   "source": [
    "df.shape"
   ]
  },
  {
   "cell_type": "code",
   "execution_count": 5,
   "id": "1381230a-6682-4a4a-a36d-01dd06054362",
   "metadata": {},
   "outputs": [
    {
     "data": {
      "text/plain": [
       "(195, 8)"
      ]
     },
     "execution_count": 5,
     "metadata": {},
     "output_type": "execute_result"
    }
   ],
   "source": [
    "saq.shape"
   ]
  },
  {
   "cell_type": "code",
   "execution_count": 6,
   "id": "0106b9c1-516c-413b-b939-1abf1ddd76ba",
   "metadata": {},
   "outputs": [
    {
     "data": {
      "text/html": [
       "<div>\n",
       "<style scoped>\n",
       "    .dataframe tbody tr th:only-of-type {\n",
       "        vertical-align: middle;\n",
       "    }\n",
       "\n",
       "    .dataframe tbody tr th {\n",
       "        vertical-align: top;\n",
       "    }\n",
       "\n",
       "    .dataframe thead th {\n",
       "        text-align: right;\n",
       "    }\n",
       "</style>\n",
       "<table border=\"1\" class=\"dataframe\">\n",
       "  <thead>\n",
       "    <tr style=\"text-align: right;\">\n",
       "      <th></th>\n",
       "      <th>URL</th>\n",
       "      <th>Name:</th>\n",
       "      <th>Company:</th>\n",
       "      <th>Type:</th>\n",
       "      <th>Distillation:</th>\n",
       "      <th>ABV:</th>\n",
       "      <th>Location</th>\n",
       "      <th>Score</th>\n",
       "      <th>nRatings</th>\n",
       "      <th>Price</th>\n",
       "      <th>Aged:</th>\n",
       "      <th>Distilled:</th>\n",
       "    </tr>\n",
       "  </thead>\n",
       "  <tbody>\n",
       "    <tr>\n",
       "      <th>0</th>\n",
       "      <td>https://rumratings.com/rum/316-diplomatico-res...</td>\n",
       "      <td>Reserva Exclusiva</td>\n",
       "      <td>Diplomatico</td>\n",
       "      <td>Aged</td>\n",
       "      <td>Pot Still</td>\n",
       "      <td>40.0%</td>\n",
       "      <td>Venezuela</td>\n",
       "      <td>7.9</td>\n",
       "      <td>2802</td>\n",
       "      <td>44.99</td>\n",
       "      <td>NaN</td>\n",
       "      <td>NaN</td>\n",
       "    </tr>\n",
       "    <tr>\n",
       "      <th>1</th>\n",
       "      <td>https://rumratings.com/rum/853-ron-zacapa-23-s...</td>\n",
       "      <td>23 Solera</td>\n",
       "      <td>Ron Zacapa</td>\n",
       "      <td>Aged</td>\n",
       "      <td>Column Still (1-4)</td>\n",
       "      <td>40.0%</td>\n",
       "      <td>Guatemala</td>\n",
       "      <td>7.5</td>\n",
       "      <td>2188</td>\n",
       "      <td>53.99</td>\n",
       "      <td>NaN</td>\n",
       "      <td>NaN</td>\n",
       "    </tr>\n",
       "    <tr>\n",
       "      <th>2</th>\n",
       "      <td>https://rumratings.com/rum/482-kraken-black-sp...</td>\n",
       "      <td>Black Spiced</td>\n",
       "      <td>Kraken</td>\n",
       "      <td>Spiced</td>\n",
       "      <td>Column Still (1-4)</td>\n",
       "      <td>40.0%</td>\n",
       "      <td>Trinidad and Tobago</td>\n",
       "      <td>6.0</td>\n",
       "      <td>1731</td>\n",
       "      <td>29.99</td>\n",
       "      <td>NaN</td>\n",
       "      <td>NaN</td>\n",
       "    </tr>\n",
       "    <tr>\n",
       "      <th>3</th>\n",
       "      <td>https://rumratings.com/rum/654-plantation-xo-2...</td>\n",
       "      <td>XO 20th Anniversary</td>\n",
       "      <td>Plantation</td>\n",
       "      <td>Aged</td>\n",
       "      <td>Pot and Column Still</td>\n",
       "      <td>40.0%</td>\n",
       "      <td>Multiple</td>\n",
       "      <td>8.4</td>\n",
       "      <td>1697</td>\n",
       "      <td>49.99</td>\n",
       "      <td>NaN</td>\n",
       "      <td>NaN</td>\n",
       "    </tr>\n",
       "    <tr>\n",
       "      <th>4</th>\n",
       "      <td>https://rumratings.com/rum/367-el-dorado-12-year</td>\n",
       "      <td>12-Year</td>\n",
       "      <td>El Dorado</td>\n",
       "      <td>Aged</td>\n",
       "      <td>Pot and Column Still</td>\n",
       "      <td>40.0%</td>\n",
       "      <td>Guyana</td>\n",
       "      <td>7.6</td>\n",
       "      <td>1341</td>\n",
       "      <td>40.99</td>\n",
       "      <td>12.0</td>\n",
       "      <td>NaN</td>\n",
       "    </tr>\n",
       "  </tbody>\n",
       "</table>\n",
       "</div>"
      ],
      "text/plain": [
       "                                                 URL                Name:  \\\n",
       "0  https://rumratings.com/rum/316-diplomatico-res...    Reserva Exclusiva   \n",
       "1  https://rumratings.com/rum/853-ron-zacapa-23-s...            23 Solera   \n",
       "2  https://rumratings.com/rum/482-kraken-black-sp...         Black Spiced   \n",
       "3  https://rumratings.com/rum/654-plantation-xo-2...  XO 20th Anniversary   \n",
       "4   https://rumratings.com/rum/367-el-dorado-12-year              12-Year   \n",
       "\n",
       "      Company:   Type:         Distillation:   ABV:             Location  \\\n",
       "0  Diplomatico    Aged             Pot Still  40.0%            Venezuela   \n",
       "1   Ron Zacapa    Aged    Column Still (1-4)  40.0%            Guatemala   \n",
       "2       Kraken  Spiced    Column Still (1-4)  40.0%  Trinidad and Tobago   \n",
       "3   Plantation    Aged  Pot and Column Still  40.0%             Multiple   \n",
       "4    El Dorado    Aged  Pot and Column Still  40.0%               Guyana   \n",
       "\n",
       "   Score nRatings  Price  Aged:  Distilled:  \n",
       "0    7.9     2802  44.99    NaN         NaN  \n",
       "1    7.5     2188  53.99    NaN         NaN  \n",
       "2    6.0     1731  29.99    NaN         NaN  \n",
       "3    8.4     1697  49.99    NaN         NaN  \n",
       "4    7.6     1341  40.99   12.0         NaN  "
      ]
     },
     "execution_count": 6,
     "metadata": {},
     "output_type": "execute_result"
    }
   ],
   "source": [
    "df.head()"
   ]
  },
  {
   "cell_type": "code",
   "execution_count": 7,
   "id": "277cd7f2-95bf-4806-9e6a-d098e398b0bb",
   "metadata": {},
   "outputs": [],
   "source": [
    "# rename column names and remove URL column\n",
    "df = df.iloc[:, 1:]\n",
    "df = df.rename(columns={'Name:': 'Name', \n",
    "                        'Company:': 'Company', \n",
    "                        'Type:': 'Type', \n",
    "                        'Distillation:': 'Distillation', \n",
    "                        'ABV:': 'ABV', \n",
    "                        'Aged:': 'Aged',\n",
    "                        'Distilled:': 'Distilled'})"
   ]
  },
  {
   "cell_type": "code",
   "execution_count": 8,
   "id": "5a2849ca-878a-4c7d-9b46-a504162f6bb1",
   "metadata": {},
   "outputs": [],
   "source": [
    "# drop the rums that have no ratings\n",
    "df = df.drop(df[pd.isna(df.nRatings)].index)"
   ]
  },
  {
   "cell_type": "code",
   "execution_count": 9,
   "id": "89fd0b5e-aa26-4b85-bd2e-889cef8e7b3d",
   "metadata": {},
   "outputs": [
    {
     "data": {
      "text/plain": [
       "(7603, 11)"
      ]
     },
     "execution_count": 9,
     "metadata": {},
     "output_type": "execute_result"
    }
   ],
   "source": [
    "df.shape"
   ]
  },
  {
   "cell_type": "code",
   "execution_count": 10,
   "id": "e79167a4-80d4-451e-aa6e-228131c23ac0",
   "metadata": {},
   "outputs": [],
   "source": [
    "# drop duplicates\n",
    "df = df.drop_duplicates()"
   ]
  },
  {
   "cell_type": "code",
   "execution_count": 11,
   "id": "f25039e3-ef26-4738-8d1e-eafa910a796a",
   "metadata": {},
   "outputs": [
    {
     "data": {
      "text/plain": [
       "(5178, 11)"
      ]
     },
     "execution_count": 11,
     "metadata": {},
     "output_type": "execute_result"
    }
   ],
   "source": [
    "df.shape"
   ]
  },
  {
   "cell_type": "code",
   "execution_count": 12,
   "id": "449eba19-1948-472f-8f2b-e6f7d204f7b9",
   "metadata": {},
   "outputs": [
    {
     "name": "stdout",
     "output_type": "stream",
     "text": [
      "<class 'pandas.core.frame.DataFrame'>\n",
      "Index: 5178 entries, 0 to 7602\n",
      "Data columns (total 11 columns):\n",
      " #   Column        Non-Null Count  Dtype  \n",
      "---  ------        --------------  -----  \n",
      " 0   Name          5177 non-null   object \n",
      " 1   Company       5178 non-null   object \n",
      " 2   Type          5176 non-null   object \n",
      " 3   Distillation  1145 non-null   object \n",
      " 4   ABV           3886 non-null   object \n",
      " 5   Location      5178 non-null   object \n",
      " 6   Score         5178 non-null   float64\n",
      " 7   nRatings      5178 non-null   object \n",
      " 8   Price         139 non-null    float64\n",
      " 9   Aged          2012 non-null   float64\n",
      " 10  Distilled     1268 non-null   float64\n",
      "dtypes: float64(4), object(7)\n",
      "memory usage: 485.4+ KB\n"
     ]
    }
   ],
   "source": [
    "df.info()"
   ]
  },
  {
   "cell_type": "code",
   "execution_count": 13,
   "id": "6b1d2eb9-629e-4c6b-bd1d-ec564bba4b20",
   "metadata": {},
   "outputs": [
    {
     "data": {
      "text/plain": [
       "array(['Aged', 'Spiced', 'Gold', 'Light', 'Flavored', 'Dark', 'Agricole',\n",
       "       'Cachaca', nan], dtype=object)"
      ]
     },
     "execution_count": 13,
     "metadata": {},
     "output_type": "execute_result"
    }
   ],
   "source": [
    "df['Type'].unique()"
   ]
  },
  {
   "cell_type": "code",
   "execution_count": 14,
   "id": "6a151d43-e8a6-4e9c-aa27-6d6b255d8ed8",
   "metadata": {},
   "outputs": [
    {
     "data": {
      "text/html": [
       "<div>\n",
       "<style scoped>\n",
       "    .dataframe tbody tr th:only-of-type {\n",
       "        vertical-align: middle;\n",
       "    }\n",
       "\n",
       "    .dataframe tbody tr th {\n",
       "        vertical-align: top;\n",
       "    }\n",
       "\n",
       "    .dataframe thead th {\n",
       "        text-align: right;\n",
       "    }\n",
       "</style>\n",
       "<table border=\"1\" class=\"dataframe\">\n",
       "  <thead>\n",
       "    <tr style=\"text-align: right;\">\n",
       "      <th></th>\n",
       "      <th>Name</th>\n",
       "      <th>Company</th>\n",
       "      <th>Type</th>\n",
       "      <th>Distillation</th>\n",
       "      <th>ABV</th>\n",
       "      <th>Location</th>\n",
       "      <th>Score</th>\n",
       "      <th>nRatings</th>\n",
       "      <th>Price</th>\n",
       "      <th>Aged</th>\n",
       "      <th>Distilled</th>\n",
       "    </tr>\n",
       "  </thead>\n",
       "  <tbody>\n",
       "    <tr>\n",
       "      <th>995</th>\n",
       "      <td>5-Year</td>\n",
       "      <td>Legionar</td>\n",
       "      <td>NaN</td>\n",
       "      <td>NaN</td>\n",
       "      <td>40.0%</td>\n",
       "      <td>Czechia</td>\n",
       "      <td>4.9</td>\n",
       "      <td>18</td>\n",
       "      <td>NaN</td>\n",
       "      <td>5.0</td>\n",
       "      <td>NaN</td>\n",
       "    </tr>\n",
       "    <tr>\n",
       "      <th>5160</th>\n",
       "      <td>Silver</td>\n",
       "      <td>Players</td>\n",
       "      <td>NaN</td>\n",
       "      <td>NaN</td>\n",
       "      <td>NaN</td>\n",
       "      <td>Netherlands</td>\n",
       "      <td>3.0</td>\n",
       "      <td>1 rating</td>\n",
       "      <td>NaN</td>\n",
       "      <td>NaN</td>\n",
       "      <td>NaN</td>\n",
       "    </tr>\n",
       "  </tbody>\n",
       "</table>\n",
       "</div>"
      ],
      "text/plain": [
       "        Name   Company Type Distillation    ABV     Location  Score  nRatings  \\\n",
       "995   5-Year  Legionar  NaN          NaN  40.0%      Czechia    4.9        18   \n",
       "5160  Silver   Players  NaN          NaN    NaN  Netherlands    3.0  1 rating   \n",
       "\n",
       "      Price  Aged  Distilled  \n",
       "995     NaN   5.0        NaN  \n",
       "5160    NaN   NaN        NaN  "
      ]
     },
     "execution_count": 14,
     "metadata": {},
     "output_type": "execute_result"
    }
   ],
   "source": [
    "df[df['Type'].isnull()]"
   ]
  },
  {
   "cell_type": "code",
   "execution_count": 15,
   "id": "2f10e2b3-b2c4-4a9c-b3a2-6981dab4b725",
   "metadata": {},
   "outputs": [
    {
     "data": {
      "text/html": [
       "<div>\n",
       "<style scoped>\n",
       "    .dataframe tbody tr th:only-of-type {\n",
       "        vertical-align: middle;\n",
       "    }\n",
       "\n",
       "    .dataframe tbody tr th {\n",
       "        vertical-align: top;\n",
       "    }\n",
       "\n",
       "    .dataframe thead th {\n",
       "        text-align: right;\n",
       "    }\n",
       "</style>\n",
       "<table border=\"1\" class=\"dataframe\">\n",
       "  <thead>\n",
       "    <tr style=\"text-align: right;\">\n",
       "      <th></th>\n",
       "      <th>Request</th>\n",
       "      <th>Company</th>\n",
       "      <th>Name</th>\n",
       "      <th>Full Name</th>\n",
       "      <th>Type</th>\n",
       "      <th>Size</th>\n",
       "      <th>Country</th>\n",
       "      <th>Price</th>\n",
       "    </tr>\n",
       "  </thead>\n",
       "  <tbody>\n",
       "  </tbody>\n",
       "</table>\n",
       "</div>"
      ],
      "text/plain": [
       "Empty DataFrame\n",
       "Columns: [Request, Company, Name, Full Name, Type, Size, Country, Price]\n",
       "Index: []"
      ]
     },
     "execution_count": 15,
     "metadata": {},
     "output_type": "execute_result"
    }
   ],
   "source": [
    "# Check if these two products exist in saq\n",
    "saq[((saq['Type'] == '5-Year') & (saq['Company'] == 'Legionar')) | (saq['Type'] == 'Silver') & (saq['Company'] == 'Players')]"
   ]
  },
  {
   "cell_type": "code",
   "execution_count": 16,
   "id": "45e7300d-9b22-4ba1-a805-a494ae74af07",
   "metadata": {},
   "outputs": [],
   "source": [
    "# remove these two products\n",
    "df = df.drop(df[df['Type'].isnull()].index)"
   ]
  },
  {
   "cell_type": "code",
   "execution_count": 17,
   "id": "a1ba31bb-25f1-4aa5-b405-e239951db7c1",
   "metadata": {
    "scrolled": true
   },
   "outputs": [],
   "source": [
    "# Remove Cachaca and Agricole, focus on classic rum\n",
    "df\n",
    "df = df.drop(df[(df['Type'] == 'Cachaca') | (df['Type'] == 'Agricole')].index)"
   ]
  },
  {
   "cell_type": "code",
   "execution_count": 19,
   "id": "c4310f1f-789a-4f5c-975d-b896bc0a3465",
   "metadata": {},
   "outputs": [
    {
     "data": {
      "text/plain": [
       "array(['Brown rum', 'Spiced rum', 'Amber rum', 'White rum',\n",
       "       'Rum and coconut liqueur', 'Flavoured rum (pineapple)',\n",
       "       'Black rum', 'Flavoured rum (lemon)', 'Golden rum',\n",
       "       'Flavoured rum', 'Flavoured rum (coconut)',\n",
       "       'Flavoured rum (coffee)', 'Flavoured spiced rum (coffee)',\n",
       "       'Flavoured rum (mango and pineapple)', 'Flavoured rum (raspberry)',\n",
       "       'Not applicable rum', 'Flavoured spiced rum (chocolate)'],\n",
       "      dtype=object)"
      ]
     },
     "execution_count": 19,
     "metadata": {},
     "output_type": "execute_result"
    }
   ],
   "source": [
    "saq['Type'].unique()"
   ]
  },
  {
   "cell_type": "code",
   "execution_count": 20,
   "id": "ed771406-ea7c-43d2-a950-62ca4ac7259d",
   "metadata": {},
   "outputs": [
    {
     "data": {
      "text/html": [
       "<div>\n",
       "<style scoped>\n",
       "    .dataframe tbody tr th:only-of-type {\n",
       "        vertical-align: middle;\n",
       "    }\n",
       "\n",
       "    .dataframe tbody tr th {\n",
       "        vertical-align: top;\n",
       "    }\n",
       "\n",
       "    .dataframe thead th {\n",
       "        text-align: right;\n",
       "    }\n",
       "</style>\n",
       "<table border=\"1\" class=\"dataframe\">\n",
       "  <thead>\n",
       "    <tr style=\"text-align: right;\">\n",
       "      <th></th>\n",
       "      <th>Request</th>\n",
       "      <th>Company</th>\n",
       "      <th>Name</th>\n",
       "      <th>Full Name</th>\n",
       "      <th>Type</th>\n",
       "      <th>Size</th>\n",
       "      <th>Country</th>\n",
       "      <th>Price</th>\n",
       "    </tr>\n",
       "  </thead>\n",
       "  <tbody>\n",
       "    <tr>\n",
       "      <th>16</th>\n",
       "      <td>Malibu Coconut</td>\n",
       "      <td>Malibu</td>\n",
       "      <td>Coconut</td>\n",
       "      <td>Malibu</td>\n",
       "      <td>Rum and coconut liqueur</td>\n",
       "      <td>750 ml</td>\n",
       "      <td>Canada</td>\n",
       "      <td>26.85</td>\n",
       "    </tr>\n",
       "  </tbody>\n",
       "</table>\n",
       "</div>"
      ],
      "text/plain": [
       "           Request Company     Name Full Name                     Type  \\\n",
       "16  Malibu Coconut  Malibu  Coconut    Malibu  Rum and coconut liqueur   \n",
       "\n",
       "      Size Country  Price  \n",
       "16  750 ml  Canada  26.85  "
      ]
     },
     "execution_count": 20,
     "metadata": {},
     "output_type": "execute_result"
    }
   ],
   "source": [
    "saq[saq['Type'] == 'Rum and coconut liqueur']"
   ]
  },
  {
   "cell_type": "code",
   "execution_count": 21,
   "id": "7eafdc38-6cd6-4391-b860-4fdc134be005",
   "metadata": {},
   "outputs": [
    {
     "data": {
      "text/html": [
       "<div>\n",
       "<style scoped>\n",
       "    .dataframe tbody tr th:only-of-type {\n",
       "        vertical-align: middle;\n",
       "    }\n",
       "\n",
       "    .dataframe tbody tr th {\n",
       "        vertical-align: top;\n",
       "    }\n",
       "\n",
       "    .dataframe thead th {\n",
       "        text-align: right;\n",
       "    }\n",
       "</style>\n",
       "<table border=\"1\" class=\"dataframe\">\n",
       "  <thead>\n",
       "    <tr style=\"text-align: right;\">\n",
       "      <th></th>\n",
       "      <th>Request</th>\n",
       "      <th>Company</th>\n",
       "      <th>Name</th>\n",
       "      <th>Full Name</th>\n",
       "      <th>Type</th>\n",
       "      <th>Size</th>\n",
       "      <th>Country</th>\n",
       "      <th>Price</th>\n",
       "    </tr>\n",
       "  </thead>\n",
       "  <tbody>\n",
       "    <tr>\n",
       "      <th>166</th>\n",
       "      <td>Bacardi Grapefruit</td>\n",
       "      <td>Bacardi</td>\n",
       "      <td>Grapefruit</td>\n",
       "      <td>Bacardi Grapefruit</td>\n",
       "      <td>Not applicable rum</td>\n",
       "      <td>750 ml</td>\n",
       "      <td>United States</td>\n",
       "      <td>25.10</td>\n",
       "    </tr>\n",
       "  </tbody>\n",
       "</table>\n",
       "</div>"
      ],
      "text/plain": [
       "                Request  Company        Name           Full Name  \\\n",
       "166  Bacardi Grapefruit  Bacardi  Grapefruit  Bacardi Grapefruit   \n",
       "\n",
       "                   Type    Size        Country  Price  \n",
       "166  Not applicable rum  750 ml  United States  25.10  "
      ]
     },
     "execution_count": 21,
     "metadata": {},
     "output_type": "execute_result"
    }
   ],
   "source": [
    "saq[saq['Type'] == 'Not applicable rum']"
   ]
  },
  {
   "cell_type": "code",
   "execution_count": 22,
   "id": "29661c33-35c3-42af-aeb5-6df4bd3eda92",
   "metadata": {},
   "outputs": [],
   "source": [
    "saq.loc[(saq['Type'] == 'Rum and coconut liqueur') | (saq['Type'] == 'Not applicable rum'), 'Type'] = 'Flavoured rum'"
   ]
  },
  {
   "cell_type": "code",
   "execution_count": 23,
   "id": "6a5b617b-a9d0-43de-8747-8a76be448d3c",
   "metadata": {},
   "outputs": [
    {
     "data": {
      "text/plain": [
       "array(['Aged', 'Spiced', 'Gold', 'Light', 'Flavored', 'Dark'],\n",
       "      dtype=object)"
      ]
     },
     "execution_count": 23,
     "metadata": {},
     "output_type": "execute_result"
    }
   ],
   "source": [
    "df['Type'].unique()"
   ]
  },
  {
   "cell_type": "code",
   "execution_count": 24,
   "id": "82f57afc-87ed-4be9-8c2e-1330b585e518",
   "metadata": {},
   "outputs": [
    {
     "data": {
      "text/plain": [
       "array(['Brown rum', 'Spiced rum', 'Amber rum', 'White rum',\n",
       "       'Flavoured rum', 'Flavoured rum (pineapple)', 'Black rum',\n",
       "       'Flavoured rum (lemon)', 'Golden rum', 'Flavoured rum (coconut)',\n",
       "       'Flavoured rum (coffee)', 'Flavoured spiced rum (coffee)',\n",
       "       'Flavoured rum (mango and pineapple)', 'Flavoured rum (raspberry)',\n",
       "       'Flavoured spiced rum (chocolate)'], dtype=object)"
      ]
     },
     "execution_count": 24,
     "metadata": {},
     "output_type": "execute_result"
    }
   ],
   "source": [
    "saq['Type'].unique()"
   ]
  },
  {
   "cell_type": "code",
   "execution_count": 26,
   "id": "097461d4-7115-4f7c-a42d-b26f7b245ead",
   "metadata": {},
   "outputs": [],
   "source": [
    "def get_type(src):\n",
    "    if 'Flavoured' in src:\n",
    "        return 'Flavoured'\n",
    "    elif 'Brown' in src:\n",
    "        return 'Brown'\n",
    "    elif 'Spiced' in src:\n",
    "        return 'Spiced'\n",
    "    elif 'Amber' in src:\n",
    "        return 'Amber'\n",
    "    elif 'White' in src:\n",
    "        return 'White'\n",
    "    elif 'Black' in src:\n",
    "        return 'Black'\n",
    "    elif 'Golden' in src:\n",
    "        return 'Golden'\n",
    "    else:\n",
    "        return 'Not Specified'\n",
    "\n",
    "saq['Type_simplified'] = saq['Type'].apply(get_type)"
   ]
  },
  {
   "cell_type": "code",
   "execution_count": 27,
   "id": "0e05bfa1-8b4c-4bf2-9989-4dcdb9858f32",
   "metadata": {},
   "outputs": [
    {
     "data": {
      "text/plain": [
       "array(['Brown', 'Spiced', 'Amber', 'White', 'Flavoured', 'Black',\n",
       "       'Golden'], dtype=object)"
      ]
     },
     "execution_count": 27,
     "metadata": {},
     "output_type": "execute_result"
    }
   ],
   "source": [
    "saq['Type_simplified'].unique()"
   ]
  },
  {
   "cell_type": "code",
   "execution_count": 28,
   "id": "33151956-fcf3-483b-8271-11187ec7b713",
   "metadata": {},
   "outputs": [
    {
     "data": {
      "text/plain": [
       "array(['Aged', 'Spiced', 'Gold', 'Light', 'Flavored', 'Dark'],\n",
       "      dtype=object)"
      ]
     },
     "execution_count": 28,
     "metadata": {},
     "output_type": "execute_result"
    }
   ],
   "source": [
    "df['Type'].unique()"
   ]
  },
  {
   "cell_type": "code",
   "execution_count": 29,
   "id": "4d0e8055-2228-4215-9fee-d1d96782a57d",
   "metadata": {},
   "outputs": [],
   "source": [
    "df.rename(columns={'Type': 'Type_org'}, inplace=True)\n",
    "saq.rename(columns={'Type': 'Type_org'}, inplace=True)"
   ]
  },
  {
   "cell_type": "code",
   "execution_count": 30,
   "id": "e6eb9524-c071-4ce2-8383-f0c43dcac0fa",
   "metadata": {},
   "outputs": [],
   "source": [
    "# Map type categories\n",
    "type_dict = {'Aged': 'Brown', 'Spiced': 'Spiced', 'Gold': 'Golden', 'Light': 'White', 'Flavored': 'Flavoured', 'Dark': 'Black'}\n",
    "\n",
    "def map_type(row):\n",
    "    match_row = saq[(saq['Name'] == row['Name']) & (saq['Company'] == row['Company'])]\n",
    "    \n",
    "    if not match_row.empty:\n",
    "        return match_row['Type_simplified'].values[0]\n",
    "    else:\n",
    "        return type_dict.get(row['Type_org'], None)\n",
    "    \n",
    "df['Type'] = df.apply(map_type, axis=1)"
   ]
  },
  {
   "cell_type": "code",
   "execution_count": 31,
   "id": "86b212e3-a739-4855-bc38-35531651069c",
   "metadata": {},
   "outputs": [
    {
     "data": {
      "text/plain": [
       "array(['Brown', 'Spiced', 'Amber', 'White', 'Flavoured', 'Black',\n",
       "       'Golden'], dtype=object)"
      ]
     },
     "execution_count": 31,
     "metadata": {},
     "output_type": "execute_result"
    }
   ],
   "source": [
    "df['Type'].unique()"
   ]
  },
  {
   "cell_type": "code",
   "execution_count": 32,
   "id": "1779cedc-41b5-4fe9-b018-a4c5a3bf3bf9",
   "metadata": {},
   "outputs": [
    {
     "data": {
      "text/plain": [
       "Index(['Name', 'Company', 'Type_org', 'Distillation', 'ABV', 'Location',\n",
       "       'Score', 'nRatings', 'Price', 'Aged', 'Distilled', 'Type'],\n",
       "      dtype='object')"
      ]
     },
     "execution_count": 32,
     "metadata": {},
     "output_type": "execute_result"
    }
   ],
   "source": [
    "df.columns"
   ]
  },
  {
   "cell_type": "code",
   "execution_count": 33,
   "id": "ccdf8a77-698a-47fe-8eb7-77771214e07c",
   "metadata": {},
   "outputs": [
    {
     "data": {
      "text/plain": [
       "Index(['Request', 'Company', 'Name', 'Full Name', 'Type_org', 'Size',\n",
       "       'Country', 'Price', 'Type_simplified'],\n",
       "      dtype='object')"
      ]
     },
     "execution_count": 33,
     "metadata": {},
     "output_type": "execute_result"
    }
   ],
   "source": [
    "saq.columns"
   ]
  },
  {
   "cell_type": "code",
   "execution_count": 34,
   "id": "2a3d00ba-086c-4106-a758-c9a94a5e8b8e",
   "metadata": {},
   "outputs": [],
   "source": [
    "def get_unit_price(row):\n",
    "    size_numeric = float(re.search(r'(\\d+\\.\\d+|\\d+)', row['Size']).group())\n",
    "\n",
    "    size_units = re.search(r'([a-zA-Z]+)', row['Size']).group()\n",
    "\n",
    "    conversion_factors = {'L': 1, 'ml': 1/1000}\n",
    "    size_numeric = size_numeric * conversion_factors.get(size_units, 1)\n",
    "\n",
    "    price_cleaned = float(row['Price'].replace(',', ''))\n",
    "\n",
    "    unit_price = round(price_cleaned / size_numeric, 2)\n",
    "\n",
    "    return unit_price\n",
    "\n",
    "\n",
    "saq['Price_unit'] = saq.apply(get_unit_price, axis=1)"
   ]
  },
  {
   "cell_type": "code",
   "execution_count": 35,
   "id": "21ad8929-0d30-457e-9452-984096158f42",
   "metadata": {},
   "outputs": [
    {
     "data": {
      "text/html": [
       "<div>\n",
       "<style scoped>\n",
       "    .dataframe tbody tr th:only-of-type {\n",
       "        vertical-align: middle;\n",
       "    }\n",
       "\n",
       "    .dataframe tbody tr th {\n",
       "        vertical-align: top;\n",
       "    }\n",
       "\n",
       "    .dataframe thead th {\n",
       "        text-align: right;\n",
       "    }\n",
       "</style>\n",
       "<table border=\"1\" class=\"dataframe\">\n",
       "  <thead>\n",
       "    <tr style=\"text-align: right;\">\n",
       "      <th></th>\n",
       "      <th>Request</th>\n",
       "      <th>Company</th>\n",
       "      <th>Name</th>\n",
       "      <th>Full Name</th>\n",
       "      <th>Type_org</th>\n",
       "      <th>Size</th>\n",
       "      <th>Country</th>\n",
       "      <th>Price</th>\n",
       "      <th>Type_simplified</th>\n",
       "      <th>Price_unit</th>\n",
       "    </tr>\n",
       "  </thead>\n",
       "  <tbody>\n",
       "    <tr>\n",
       "      <th>0</th>\n",
       "      <td>Diplomatico Reserva Exclusiva</td>\n",
       "      <td>Diplomatico</td>\n",
       "      <td>Reserva Exclusiva</td>\n",
       "      <td>Diplomatico Reserva Exclusiva</td>\n",
       "      <td>Brown rum</td>\n",
       "      <td>750 ml</td>\n",
       "      <td>Venezuela</td>\n",
       "      <td>63.50</td>\n",
       "      <td>Brown</td>\n",
       "      <td>84.67</td>\n",
       "    </tr>\n",
       "    <tr>\n",
       "      <th>1</th>\n",
       "      <td>Ron Zacapa 23 Solera</td>\n",
       "      <td>Ron Zacapa</td>\n",
       "      <td>23 Solera</td>\n",
       "      <td>Ron Zacapa Centenario Sistema Solera 23 Gran R...</td>\n",
       "      <td>Brown rum</td>\n",
       "      <td>750 ml</td>\n",
       "      <td>Guatemala</td>\n",
       "      <td>86.50</td>\n",
       "      <td>Brown</td>\n",
       "      <td>115.33</td>\n",
       "    </tr>\n",
       "    <tr>\n",
       "      <th>2</th>\n",
       "      <td>Kraken Black Spiced</td>\n",
       "      <td>Kraken</td>\n",
       "      <td>Black Spiced</td>\n",
       "      <td>The Kraken Black Spiced</td>\n",
       "      <td>Spiced rum</td>\n",
       "      <td>1.14 L</td>\n",
       "      <td>United States</td>\n",
       "      <td>48.25</td>\n",
       "      <td>Spiced</td>\n",
       "      <td>42.32</td>\n",
       "    </tr>\n",
       "    <tr>\n",
       "      <th>3</th>\n",
       "      <td>Plantation XO 20th Anniversary</td>\n",
       "      <td>Plantation</td>\n",
       "      <td>XO 20th Anniversary</td>\n",
       "      <td>Plantation 20Th Anniversary XO Barbados</td>\n",
       "      <td>Brown rum</td>\n",
       "      <td>700 ml</td>\n",
       "      <td>Barbados</td>\n",
       "      <td>72.50</td>\n",
       "      <td>Brown</td>\n",
       "      <td>103.57</td>\n",
       "    </tr>\n",
       "    <tr>\n",
       "      <th>4</th>\n",
       "      <td>El Dorado 12-Year</td>\n",
       "      <td>El Dorado</td>\n",
       "      <td>12-Year</td>\n",
       "      <td>El Dorado 12 ans Demerara</td>\n",
       "      <td>Brown rum</td>\n",
       "      <td>750 ml</td>\n",
       "      <td>Guyana</td>\n",
       "      <td>45.00</td>\n",
       "      <td>Brown</td>\n",
       "      <td>60.00</td>\n",
       "    </tr>\n",
       "  </tbody>\n",
       "</table>\n",
       "</div>"
      ],
      "text/plain": [
       "                          Request      Company                 Name  \\\n",
       "0   Diplomatico Reserva Exclusiva  Diplomatico    Reserva Exclusiva   \n",
       "1            Ron Zacapa 23 Solera   Ron Zacapa            23 Solera   \n",
       "2             Kraken Black Spiced       Kraken         Black Spiced   \n",
       "3  Plantation XO 20th Anniversary   Plantation  XO 20th Anniversary   \n",
       "4               El Dorado 12-Year    El Dorado              12-Year   \n",
       "\n",
       "                                           Full Name    Type_org    Size  \\\n",
       "0                      Diplomatico Reserva Exclusiva   Brown rum  750 ml   \n",
       "1  Ron Zacapa Centenario Sistema Solera 23 Gran R...   Brown rum  750 ml   \n",
       "2                            The Kraken Black Spiced  Spiced rum  1.14 L   \n",
       "3            Plantation 20Th Anniversary XO Barbados   Brown rum  700 ml   \n",
       "4                          El Dorado 12 ans Demerara   Brown rum  750 ml   \n",
       "\n",
       "         Country  Price Type_simplified  Price_unit  \n",
       "0      Venezuela  63.50           Brown       84.67  \n",
       "1      Guatemala  86.50           Brown      115.33  \n",
       "2  United States  48.25          Spiced       42.32  \n",
       "3       Barbados  72.50           Brown      103.57  \n",
       "4         Guyana  45.00           Brown       60.00  "
      ]
     },
     "execution_count": 35,
     "metadata": {},
     "output_type": "execute_result"
    }
   ],
   "source": [
    "saq.head()"
   ]
  },
  {
   "cell_type": "code",
   "execution_count": 36,
   "id": "b19e8957-16c5-4e4c-af8a-4c31ca194483",
   "metadata": {},
   "outputs": [
    {
     "data": {
      "text/html": [
       "<div>\n",
       "<style scoped>\n",
       "    .dataframe tbody tr th:only-of-type {\n",
       "        vertical-align: middle;\n",
       "    }\n",
       "\n",
       "    .dataframe tbody tr th {\n",
       "        vertical-align: top;\n",
       "    }\n",
       "\n",
       "    .dataframe thead th {\n",
       "        text-align: right;\n",
       "    }\n",
       "</style>\n",
       "<table border=\"1\" class=\"dataframe\">\n",
       "  <thead>\n",
       "    <tr style=\"text-align: right;\">\n",
       "      <th></th>\n",
       "      <th>Name</th>\n",
       "      <th>Company</th>\n",
       "      <th>Type_org</th>\n",
       "      <th>Distillation</th>\n",
       "      <th>ABV</th>\n",
       "      <th>Location</th>\n",
       "      <th>Score</th>\n",
       "      <th>nRatings</th>\n",
       "      <th>Price</th>\n",
       "      <th>Aged</th>\n",
       "      <th>Distilled</th>\n",
       "      <th>Type</th>\n",
       "    </tr>\n",
       "  </thead>\n",
       "  <tbody>\n",
       "    <tr>\n",
       "      <th>0</th>\n",
       "      <td>Reserva Exclusiva</td>\n",
       "      <td>Diplomatico</td>\n",
       "      <td>Aged</td>\n",
       "      <td>Pot Still</td>\n",
       "      <td>40.0%</td>\n",
       "      <td>Venezuela</td>\n",
       "      <td>7.9</td>\n",
       "      <td>2802</td>\n",
       "      <td>44.99</td>\n",
       "      <td>NaN</td>\n",
       "      <td>NaN</td>\n",
       "      <td>Brown</td>\n",
       "    </tr>\n",
       "    <tr>\n",
       "      <th>1</th>\n",
       "      <td>23 Solera</td>\n",
       "      <td>Ron Zacapa</td>\n",
       "      <td>Aged</td>\n",
       "      <td>Column Still (1-4)</td>\n",
       "      <td>40.0%</td>\n",
       "      <td>Guatemala</td>\n",
       "      <td>7.5</td>\n",
       "      <td>2188</td>\n",
       "      <td>53.99</td>\n",
       "      <td>NaN</td>\n",
       "      <td>NaN</td>\n",
       "      <td>Brown</td>\n",
       "    </tr>\n",
       "    <tr>\n",
       "      <th>2</th>\n",
       "      <td>Black Spiced</td>\n",
       "      <td>Kraken</td>\n",
       "      <td>Spiced</td>\n",
       "      <td>Column Still (1-4)</td>\n",
       "      <td>40.0%</td>\n",
       "      <td>Trinidad and Tobago</td>\n",
       "      <td>6.0</td>\n",
       "      <td>1731</td>\n",
       "      <td>29.99</td>\n",
       "      <td>NaN</td>\n",
       "      <td>NaN</td>\n",
       "      <td>Spiced</td>\n",
       "    </tr>\n",
       "    <tr>\n",
       "      <th>3</th>\n",
       "      <td>XO 20th Anniversary</td>\n",
       "      <td>Plantation</td>\n",
       "      <td>Aged</td>\n",
       "      <td>Pot and Column Still</td>\n",
       "      <td>40.0%</td>\n",
       "      <td>Multiple</td>\n",
       "      <td>8.4</td>\n",
       "      <td>1697</td>\n",
       "      <td>49.99</td>\n",
       "      <td>NaN</td>\n",
       "      <td>NaN</td>\n",
       "      <td>Brown</td>\n",
       "    </tr>\n",
       "    <tr>\n",
       "      <th>4</th>\n",
       "      <td>12-Year</td>\n",
       "      <td>El Dorado</td>\n",
       "      <td>Aged</td>\n",
       "      <td>Pot and Column Still</td>\n",
       "      <td>40.0%</td>\n",
       "      <td>Guyana</td>\n",
       "      <td>7.6</td>\n",
       "      <td>1341</td>\n",
       "      <td>40.99</td>\n",
       "      <td>12.0</td>\n",
       "      <td>NaN</td>\n",
       "      <td>Brown</td>\n",
       "    </tr>\n",
       "  </tbody>\n",
       "</table>\n",
       "</div>"
      ],
      "text/plain": [
       "                  Name      Company Type_org          Distillation    ABV  \\\n",
       "0    Reserva Exclusiva  Diplomatico     Aged             Pot Still  40.0%   \n",
       "1            23 Solera   Ron Zacapa     Aged    Column Still (1-4)  40.0%   \n",
       "2         Black Spiced       Kraken   Spiced    Column Still (1-4)  40.0%   \n",
       "3  XO 20th Anniversary   Plantation     Aged  Pot and Column Still  40.0%   \n",
       "4              12-Year    El Dorado     Aged  Pot and Column Still  40.0%   \n",
       "\n",
       "              Location  Score nRatings  Price  Aged  Distilled    Type  \n",
       "0            Venezuela    7.9     2802  44.99   NaN        NaN   Brown  \n",
       "1            Guatemala    7.5     2188  53.99   NaN        NaN   Brown  \n",
       "2  Trinidad and Tobago    6.0     1731  29.99   NaN        NaN  Spiced  \n",
       "3             Multiple    8.4     1697  49.99   NaN        NaN   Brown  \n",
       "4               Guyana    7.6     1341  40.99  12.0        NaN   Brown  "
      ]
     },
     "execution_count": 36,
     "metadata": {},
     "output_type": "execute_result"
    }
   ],
   "source": [
    "df.head()"
   ]
  },
  {
   "cell_type": "code",
   "execution_count": 37,
   "id": "b93adddf-4eb3-4dbd-936e-cdf59946c4b4",
   "metadata": {},
   "outputs": [],
   "source": [
    "merged = pd.merge(df, saq, how='left', on=['Name', 'Company'], suffixes=('_df', '_saq'))"
   ]
  },
  {
   "cell_type": "code",
   "execution_count": 51,
   "id": "06041c73-2d59-420d-a4b7-0267179a2023",
   "metadata": {},
   "outputs": [
    {
     "name": "stdout",
     "output_type": "stream",
     "text": [
      "<class 'pandas.core.frame.DataFrame'>\n",
      "RangeIndex: 4592 entries, 0 to 4591\n",
      "Data columns (total 20 columns):\n",
      " #   Column           Non-Null Count  Dtype  \n",
      "---  ------           --------------  -----  \n",
      " 0   Name             4591 non-null   object \n",
      " 1   Company          4592 non-null   object \n",
      " 2   Type_org_df      4592 non-null   object \n",
      " 3   Distillation     693 non-null    object \n",
      " 4   ABV              3334 non-null   object \n",
      " 5   Location         4592 non-null   object \n",
      " 6   Score            4592 non-null   float64\n",
      " 7   nRatings         4592 non-null   object \n",
      " 8   Price_df         137 non-null    float64\n",
      " 9   Aged             1716 non-null   float64\n",
      " 10  Distilled        1062 non-null   float64\n",
      " 11  Type             4592 non-null   object \n",
      " 12  Request          194 non-null    object \n",
      " 13  Full Name        194 non-null    object \n",
      " 14  Type_org_saq     194 non-null    object \n",
      " 15  Size             194 non-null    object \n",
      " 16  Country          194 non-null    object \n",
      " 17  Price_saq        194 non-null    object \n",
      " 18  Type_simplified  194 non-null    object \n",
      " 19  Price_unit       194 non-null    float64\n",
      "dtypes: float64(5), object(15)\n",
      "memory usage: 717.6+ KB\n"
     ]
    }
   ],
   "source": [
    "merged.info()"
   ]
  },
  {
   "cell_type": "code",
   "execution_count": 52,
   "id": "0a40ed0e-ef3e-4881-b87e-8d0805fba5ef",
   "metadata": {},
   "outputs": [],
   "source": [
    "merged = merged.drop(['Type_org_df', 'Type_simplified', 'Type_org_saq', 'Request', 'Price_df', 'Size', 'Price_saq'], axis=1)"
   ]
  },
  {
   "cell_type": "code",
   "execution_count": 53,
   "id": "919346bd-7505-4840-bb7d-4484445cd465",
   "metadata": {},
   "outputs": [
    {
     "name": "stdout",
     "output_type": "stream",
     "text": [
      "<class 'pandas.core.frame.DataFrame'>\n",
      "RangeIndex: 4592 entries, 0 to 4591\n",
      "Data columns (total 13 columns):\n",
      " #   Column        Non-Null Count  Dtype  \n",
      "---  ------        --------------  -----  \n",
      " 0   Name          4591 non-null   object \n",
      " 1   Company       4592 non-null   object \n",
      " 2   Distillation  693 non-null    object \n",
      " 3   ABV           3334 non-null   object \n",
      " 4   Location      4592 non-null   object \n",
      " 5   Score         4592 non-null   float64\n",
      " 6   nRatings      4592 non-null   object \n",
      " 7   Aged          1716 non-null   float64\n",
      " 8   Distilled     1062 non-null   float64\n",
      " 9   Type          4592 non-null   object \n",
      " 10  Full Name     194 non-null    object \n",
      " 11  Country       194 non-null    object \n",
      " 12  Price_unit    194 non-null    float64\n",
      "dtypes: float64(4), object(9)\n",
      "memory usage: 466.5+ KB\n"
     ]
    }
   ],
   "source": [
    "merged.info()"
   ]
  },
  {
   "cell_type": "code",
   "execution_count": 93,
   "id": "bf708cb0-fd64-43de-9b28-cf329fa04994",
   "metadata": {},
   "outputs": [],
   "source": [
    "df.to_csv(\"../dataset/rum_ratings_cleaned.csv\", index=False)"
   ]
  },
  {
   "cell_type": "code",
   "execution_count": 94,
   "id": "bbc185c2-f4f8-4afc-bede-8d29c8ce501b",
   "metadata": {},
   "outputs": [],
   "source": [
    "saq.to_csv(\"../dataset/saq_cleaned.csv\", index=False)"
   ]
  },
  {
   "cell_type": "code",
   "execution_count": 54,
   "id": "695adeb9-a320-435d-a998-b4ac8afe401e",
   "metadata": {},
   "outputs": [],
   "source": [
    "merged.to_csv(\"../dataset/merged_cleaned.csv\", index=False)"
   ]
  },
  {
   "cell_type": "code",
   "execution_count": null,
   "id": "56a021d3-d897-41d8-9f03-4740132396de",
   "metadata": {},
   "outputs": [],
   "source": []
  }
 ],
 "metadata": {
  "kernelspec": {
   "display_name": "Python 3 (ipykernel)",
   "language": "python",
   "name": "python3"
  },
  "language_info": {
   "codemirror_mode": {
    "name": "ipython",
    "version": 3
   },
   "file_extension": ".py",
   "mimetype": "text/x-python",
   "name": "python",
   "nbconvert_exporter": "python",
   "pygments_lexer": "ipython3",
   "version": "3.11.3"
  }
 },
 "nbformat": 4,
 "nbformat_minor": 5
}
